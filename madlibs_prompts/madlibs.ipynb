{
 "cells": [
  {
   "cell_type": "code",
   "execution_count": 106,
   "metadata": {},
   "outputs": [],
   "source": [
    "import os\n",
    "from dotenv import load_dotenv\n",
    "import re\n",
    "\n",
    "import dspy\n",
    "\n",
    "load_dotenv()\n",
    "\n",
    "api_key = os.environ[\"GOOGLE_API_KEY\"]\n",
    "\n",
    "lm = dspy.LM(\n",
    "    model=\"gemini/gemini-2.0-flash\", api_key=api_key, cache=False, temperature=1.0\n",
    ")\n",
    "dspy.configure(lm=lm)"
   ]
  },
  {
   "cell_type": "code",
   "execution_count": 107,
   "metadata": {},
   "outputs": [],
   "source": [
    "class MadLibsTemplateGenerator(dspy.Signature):\n",
    "    topic: str = dspy.InputField(desc=\"The topic for the MadLibs template\")\n",
    "    template: str = dspy.OutputField(\n",
    "        desc=\"A MadLibs template with placeholders for word types. The placeholders should be within curly brackets and all lower case.\"\n",
    "    )\n",
    "    word_types: list[str] = dspy.OutputField(\n",
    "        desc=\"A list of the exact placeholder word types used in the template, in the order they were used\"\n",
    "    )"
   ]
  },
  {
   "cell_type": "code",
   "execution_count": 108,
   "metadata": {},
   "outputs": [],
   "source": [
    "class MadLibsGenerator(dspy.Module):\n",
    "    def __init__(self):\n",
    "        super().__init__()\n",
    "        self.generate_template = dspy.Predict(MadLibsTemplateGenerator)\n",
    "\n",
    "    def forward(self, topic):\n",
    "        result = self.generate_template(topic=topic)\n",
    "        return result"
   ]
  },
  {
   "cell_type": "code",
   "execution_count": 109,
   "metadata": {},
   "outputs": [],
   "source": [
    "class MadLibsApp:\n",
    "    def __init__(self):\n",
    "        self.madlibs_generator = MadLibsGenerator()\n",
    "\n",
    "    def generate_madlib(self, topic: str):\n",
    "        result = self.madlibs_generator(topic)\n",
    "        template, placeholder_words = result.template, result.word_types\n",
    "        print(template)\n",
    "        pattern = r\"\\{([^}]+)\\}\"\n",
    "        word_types_needed = re.findall(pattern, template)\n",
    "        if placeholder_words != word_types_needed:\n",
    "            raise Exception(\"Mismatch between words extracted and words needed\")\n",
    "        user_inputs = self.collect_user_inputs(placeholder_words=placeholder_words)\n",
    "        completed_madlib = self.fill_template(\n",
    "            template=template,\n",
    "            placeholder_words=placeholder_words,\n",
    "            user_inputs=user_inputs,\n",
    "        )\n",
    "        return completed_madlib\n",
    "\n",
    "    def collect_user_inputs(self, placeholder_words):\n",
    "        user_inputs = []\n",
    "        for word in placeholder_words:\n",
    "            user_input = input(f\"Enter a/an {word}: \")\n",
    "            user_inputs.append(user_input)\n",
    "        return user_inputs\n",
    "\n",
    "    def fill_template(self, template, placeholder_words, user_inputs):\n",
    "        completed = template\n",
    "\n",
    "        for word, user_input in zip(placeholder_words, user_inputs):\n",
    "            placeholder = f\"{{{word}}}\"\n",
    "            completed = completed.replace(placeholder, user_input, 1)\n",
    "        return completed"
   ]
  },
  {
   "cell_type": "code",
   "execution_count": 110,
   "metadata": {},
   "outputs": [
    {
     "name": "stdout",
     "output_type": "stream",
     "text": [
      "The {adjective} United States of America is a {adjective} country located in {place}. It has a {adjective} system of government with three branches: the {adjective} branch, the {adjective} branch, and the {adjective} branch. Citizens have the right to {verb} and express their {noun}. It's important to be a {adjective} and informed {noun} to participate in our {adjective} democracy.\n"
     ]
    },
    {
     "data": {
      "text/plain": [
       "\"The stupid United States of America is a wealthy country located in bumfuck nowhere. It has a oligarchic system of government with three branches: the rich branch, the old branch, and the boomer branch. Citizens have the right to suck and express their love. It's important to be a dumb and informed ignorant to participate in our corrupt democracy.\""
      ]
     },
     "execution_count": 110,
     "metadata": {},
     "output_type": "execute_result"
    }
   ],
   "source": [
    "app = MadLibsApp()\n",
    "app.generate_madlib(topic=\"American Civics\")"
   ]
  }
 ],
 "metadata": {
  "kernelspec": {
   "display_name": "madlibs",
   "language": "python",
   "name": "python3"
  },
  "language_info": {
   "codemirror_mode": {
    "name": "ipython",
    "version": 3
   },
   "file_extension": ".py",
   "mimetype": "text/x-python",
   "name": "python",
   "nbconvert_exporter": "python",
   "pygments_lexer": "ipython3",
   "version": "3.11.11"
  }
 },
 "nbformat": 4,
 "nbformat_minor": 2
}
